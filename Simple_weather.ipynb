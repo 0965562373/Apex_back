{
  "nbformat": 4,
  "nbformat_minor": 0,
  "metadata": {
    "colab": {
      "provenance": [],
      "authorship_tag": "ABX9TyO72+L2d1t+21gztYCyKvd4",
      "include_colab_link": true
    },
    "kernelspec": {
      "name": "python3",
      "display_name": "Python 3"
    },
    "language_info": {
      "name": "python"
    }
  },
  "cells": [
    {
      "cell_type": "markdown",
      "metadata": {
        "id": "view-in-github",
        "colab_type": "text"
      },
      "source": [
        "<a href=\"https://colab.research.google.com/github/abeni-hub/Apex_back/blob/main/Simple_weather.ipynb\" target=\"_parent\"><img src=\"https://colab.research.google.com/assets/colab-badge.svg\" alt=\"Open In Colab\"/></a>"
      ]
    },
    {
      "cell_type": "code",
      "execution_count": null,
      "metadata": {
        "colab": {
          "base_uri": "https://localhost:8080/"
        },
        "id": "cyRUXRgT5vVI",
        "outputId": "f512eebc-c40c-410b-bd3b-4375c4e35be5"
      },
      "outputs": [
        {
          "output_type": "stream",
          "name": "stdout",
          "text": [
            "Colab only includes TensorFlow 2.x; %tensorflow_version has no effect.\n"
          ]
        }
      ],
      "source": [
        "%tensorflow_version 2.x # this line is not required unless you are in a second"
      ]
    },
    {
      "cell_type": "code",
      "source": [
        "import tensorflow_probability as tfp\n",
        "import tensorflow as tf\n",
        "\n",
        "tfd = tfp.distributions\n",
        "\n",
        "# A simple weather model.\n",
        "\n",
        "# Represent a cold day with 0 and a hot day with 1.\n",
        "# Suppose the first day of a sequence has a 0.8 chance of being cold.\n",
        "# We can model this using the categorical distribution:\n",
        "\n",
        "initial_distribution = tfd.Categorical(probs=[0.8, 0.2])\n",
        "\n",
        "# Suppose a cold day has a 30% chance of being followed by a hot day\n",
        "# and a hot day has a 20% chance of being followed by a cold day.\n",
        "# We can model this as:\n",
        "\n",
        "transition_distribution = tfd.Categorical(probs=[[0.7, 0.3],\n",
        "                                                 [0.2, 0.8]])\n",
        "\n",
        "# Suppose additionally that on each day the temperature is\n",
        "# normally distributed with mean and standard deviation 0 and 5 on\n",
        "# a cold day and mean and standard deviation 15 and 10 on a hot day.\n",
        "# We can model this with:\n",
        "\n",
        "observation_distribution = tfd.Normal(loc=[0., 15.], scale=[5., 10.])\n",
        "\n",
        "# We can combine these distributions into a single week long\n",
        "# hidden Markov model with:\n",
        "\n",
        "model = tfd.HiddenMarkovModel(\n",
        "    initial_distribution=initial_distribution,\n",
        "    transition_distribution=transition_distribution,\n",
        "    observation_distribution=observation_distribution,\n",
        "    num_steps=2)\n",
        "\n",
        "# The expected temperatures for each day are given by:\n",
        "\n",
        "mean = model.mean()  # shape [7], elements approach 9.0\n",
        "\n",
        "# The log pdf of a week of temperature 0 is:\n",
        "\n",
        "# model.log_prob(tf.zeros(shape=[7]))\n",
        "with tf.compat.v1.Session() as sess:\n",
        "  print(mean.numpy())"
      ],
      "metadata": {
        "id": "Qvc0c71C6CXa",
        "colab": {
          "base_uri": "https://localhost:8080/"
        },
        "outputId": "7c215083-3062-4c07-f7dd-37b366f35c48"
      },
      "execution_count": null,
      "outputs": [
        {
          "output_type": "stream",
          "name": "stdout",
          "text": [
            "[2.9999998 5.9999995]\n"
          ]
        }
      ]
    },
    {
      "cell_type": "code",
      "source": [],
      "metadata": {
        "id": "ve17zc4rytJc"
      },
      "execution_count": null,
      "outputs": []
    }
  ]
}
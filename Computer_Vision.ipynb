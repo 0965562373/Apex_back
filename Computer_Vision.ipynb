{
  "nbformat": 4,
  "nbformat_minor": 0,
  "metadata": {
    "colab": {
      "provenance": [],
      "authorship_tag": "ABX9TyPAHRrVnj2dTHz7AgIoIhTF",
      "include_colab_link": true
    },
    "kernelspec": {
      "name": "python3",
      "display_name": "Python 3"
    },
    "language_info": {
      "name": "python"
    }
  },
  "cells": [
    {
      "cell_type": "markdown",
      "metadata": {
        "id": "view-in-github",
        "colab_type": "text"
      },
      "source": [
        "<a href=\"https://colab.research.google.com/github/abeni-hub/Apex_back/blob/main/Computer_Vision.ipynb\" target=\"_parent\"><img src=\"https://colab.research.google.com/assets/colab-badge.svg\" alt=\"Open In Colab\"/></a>"
      ]
    },
    {
      "cell_type": "code",
      "execution_count": null,
      "metadata": {
        "colab": {
          "base_uri": "https://localhost:8080/"
        },
        "id": "qP6PTkVKroRz",
        "outputId": "7ffa2189-d160-42a8-8a9f-d0cc3b3d3e59"
      },
      "outputs": [
        {
          "output_type": "stream",
          "name": "stdout",
          "text": [
            "Colab only includes TensorFlow 2.x; %tensorflow_version has no effect.\n"
          ]
        }
      ],
      "source": [
        "%tensorflow_version 2.x\n",
        "import tensorflow as tf\n",
        "\n",
        "from tensorflow.keras import datasets, layers, models\n",
        "import matplotlib.pyplot as plt\n",
        "import numpy as np"
      ]
    },
    {
      "cell_type": "markdown",
      "source": [
        "Creating A Convent\n",
        "\n",
        "the problem we will consider is classifiying 10 different everyday objects.\n",
        "CIFAR Image Dataset"
      ],
      "metadata": {
        "id": "MlcKUUclz1r9"
      }
    },
    {
      "cell_type": "code",
      "source": [
        "(train_images, train_labels), (test_images, test_labels) = datasets.cifar10.load_data()\n",
        "\n",
        "# Normalize pixel values to be between 0 and 1\n",
        "train_images, test_images = train_images / 255.0, test_images / 255.0\n",
        "\n",
        "class_names = ['airplane', 'automobile', 'bird', 'cat', 'deer',\n",
        "               'dog', 'frog', 'horse', 'ship', 'truck']"
      ],
      "metadata": {
        "colab": {
          "base_uri": "https://localhost:8080/"
        },
        "id": "0mYLNOj9z03P",
        "outputId": "ebdfa540-4d47-4147-8948-30cf946e4611"
      },
      "execution_count": null,
      "outputs": [
        {
          "output_type": "stream",
          "name": "stdout",
          "text": [
            "Downloading data from https://www.cs.toronto.edu/~kriz/cifar-10-python.tar.gz\n",
            "170498071/170498071 [==============================] - 11s 0us/step\n"
          ]
        }
      ]
    },
    {
      "cell_type": "markdown",
      "source": [
        "The labels in the dataset are the following:\n",
        "Airplane\n",
        "Automobile\n",
        "Bird\n",
        "Cat\n",
        "Deer\n",
        "Dog\n",
        "Frog\n",
        "Horse\n",
        "Ship\n",
        "Truck"
      ],
      "metadata": {
        "id": "uWr_YYxp0g7O"
      }
    },
    {
      "cell_type": "code",
      "source": [
        "IMG_INDEX = 1 # change this to look at other images\n",
        "\n",
        "plt.imshow(train_images[IMG_INDEX], cmap=plt.cm.binary)\n",
        "plt.xlabel(class_names[train_labels[IMG_INDEX][0]])\n",
        "plt.show()"
      ],
      "metadata": {
        "colab": {
          "base_uri": "https://localhost:8080/",
          "height": 449
        },
        "id": "XJmu4jP20ll2",
        "outputId": "424c05a8-bb40-4ffb-b718-849cb15f8fcb"
      },
      "execution_count": null,
      "outputs": [
        {
          "output_type": "display_data",
          "data": {
            "text/plain": [
              "<Figure size 640x480 with 1 Axes>"
            ],
            "image/png": "[encoded data removed]"
          },
          "metadata": {}
        }
      ]
    },
    {
      "cell_type": "markdown",
      "source": [
        "**`*CNN Architecture*`**\n",
        "\n",
        "A common architecture for a CNN is a stack of Conv2D and Maxpooling2D layers followed by a few denesly connected layers.To idea is that the stack of convulational and maxPooling layers extract the features from the image.\n",
        "Then these features are flattened and fed to densly connected layers that the determine the class of an image based on the presence of features."
      ],
      "metadata": {
        "id": "iQt_6CSN1i0G"
      }
    },
    {
      "cell_type": "code",
      "source": [
        "model = models.Sequential()\n",
        "model.add(layers.Conv2D(32, (3, 3), activation='relu', input_shape=(32, 32, 3)))\n",
        "model.add(layers.MaxPooling2D((2, 2)))\n",
        "model.add(layers.Conv2D(64, (3, 3), activation='relu'))\n",
        "model.add(layers.MaxPooling2D((2, 2)))\n",
        "model.add(layers.Conv2D(64, (3, 3), activation='relu'))"
      ],
      "metadata": {
        "id": "L4eq_Lr62fXH"
      },
      "execution_count": null,
      "outputs": []
    },
    {
      "cell_type": "code",
      "source": [
        "model.summary() # let's have a look at our model so far"
      ],
      "metadata": {
        "colab": {
          "base_uri": "https://localhost:8080/"
        },
        "id": "aSRrcjS925Nu",
        "outputId": "1ff6c492-c4d7-43c8-af37-fbcc07c2051b"
      },
      "execution_count": null,
      "outputs": [
        {
          "output_type": "stream",
          "name": "stdout",
          "text": [
            "Model: \"sequential\"\n",
            "_________________________________________________________________\n",
            " Layer (type)                Output Shape              Param #   \n",
            "=================================================================\n",
            " conv2d (Conv2D)             (None, 30, 30, 32)        896       \n",
            "                                                                 \n",
            " max_pooling2d (MaxPooling2  (None, 15, 15, 32)        0         \n",
            " D)                                                              \n",
            "                                                                 \n",
            " conv2d_1 (Conv2D)           (None, 13, 13, 64)        18496     \n",
            "                                                                 \n",
            " max_pooling2d_1 (MaxPoolin  (None, 6, 6, 64)          0         \n",
            " g2D)                                                            \n",
            "                                                                 \n",
            " conv2d_2 (Conv2D)           (None, 4, 4, 64)          36928     \n",
            "                                                                 \n",
            "=================================================================\n",
            "Total params: 56320 (220.00 KB)\n",
            "Trainable params: 56320 (220.00 KB)\n",
            "Non-trainable params: 0 (0.00 Byte)\n",
            "_________________________________________________________________\n"
          ]
        }
      ]
    },
    {
      "cell_type": "markdown",
      "source": [
        "***Adding Dense Layers***"
      ],
      "metadata": {
        "id": "mWX8R3gf3Fww"
      }
    },
    {
      "cell_type": "code",
      "source": [
        "model.add(layers.Flatten())\n",
        "model.add(layers.Dense(64, activation='relu'))\n",
        "model.add(layers.Dense(10))"
      ],
      "metadata": {
        "id": "mgcCp4O-3IyZ"
      },
      "execution_count": null,
      "outputs": []
    },
    {
      "cell_type": "code",
      "source": [
        "model.summary()"
      ],
      "metadata": {
        "colab": {
          "base_uri": "https://localhost:8080/"
        },
        "id": "3Zibzqrr3ljd",
        "outputId": "2af0ec22-a2be-4a2d-dc6b-0a69490c2ab9"
      },
      "execution_count": null,
      "outputs": [
        {
          "output_type": "stream",
          "name": "stdout",
          "text": [
            "Model: \"sequential\"\n",
            "_________________________________________________________________\n",
            " Layer (type)                Output Shape              Param #   \n",
            "=================================================================\n",
            " conv2d (Conv2D)             (None, 30, 30, 32)        896       \n",
            "                                                                 \n",
            " max_pooling2d (MaxPooling2  (None, 15, 15, 32)        0         \n",
            " D)                                                              \n",
            "                                                                 \n",
            " conv2d_1 (Conv2D)           (None, 13, 13, 64)        18496     \n",
            "                                                                 \n",
            " max_pooling2d_1 (MaxPoolin  (None, 6, 6, 64)          0         \n",
            " g2D)                                                            \n",
            "                                                                 \n",
            " conv2d_2 (Conv2D)           (None, 4, 4, 64)          36928     \n",
            "                                                                 \n",
            " flatten (Flatten)           (None, 1024)              0         \n",
            "                                                                 \n",
            " dense (Dense)               (None, 64)                65600     \n",
            "                                                                 \n",
            " dense_1 (Dense)             (None, 10)                650       \n",
            "                                                                 \n",
            "=================================================================\n",
            "Total params: 122570 (478.79 KB)\n",
            "Trainable params: 122570 (478.79 KB)\n",
            "Non-trainable params: 0 (0.00 Byte)\n",
            "_________________________________________________________________\n"
          ]
        }
      ]
    },
    {
      "cell_type": "markdown",
      "source": [
        "we can see that the flatten layer changes the shape of our data so that we can feed it to the 64 node dense layer, followed by the final output layer of 10 neurons(one for each class)."
      ],
      "metadata": {
        "id": "gJa1NaQj3vVO"
      }
    },
    {
      "cell_type": "markdown",
      "source": [
        "# ***Training***"
      ],
      "metadata": {
        "id": "r_rO6D6t3_vO"
      }
    },
    {
      "cell_type": "code",
      "source": [
        "model.compile(optimizer='adam',\n",
        "              loss=tf.keras.losses.SparseCategoricalCrossentropy(from_logits=True),\n",
        "              metrics=['accuracy'])\n",
        "\n",
        "history = model.fit(train_images, train_labels, epochs=10,\n",
        "                    validation_data=(test_images, test_labels))"
      ],
      "metadata": {
        "colab": {
          "base_uri": "https://localhost:8080/"
        },
        "id": "eynVqeWJ3864",
        "outputId": "77fa7875-ff2d-4178-b6be-5ce904a93686"
      },
      "execution_count": null,
      "outputs": [
        {
          "output_type": "stream",
          "name": "stdout",
          "text": [
            "Epoch 1/10\n",
            "1563/1563 [==============================] - 77s 48ms/step - loss: 1.5105 - accuracy: 0.4492 - val_loss: 1.2569 - val_accuracy: 0.5458\n",
            "Epoch 2/10\n",
            "1563/1563 [==============================] - 79s 50ms/step - loss: 1.1500 - accuracy: 0.5911 - val_loss: 1.1067 - val_accuracy: 0.6111\n",
            "Epoch 3/10\n",
            "1563/1563 [==============================] - 86s 55ms/step - loss: 1.0033 - accuracy: 0.6451 - val_loss: 0.9904 - val_accuracy: 0.6537\n",
            "Epoch 4/10\n",
            "1563/1563 [==============================] - 76s 49ms/step - loss: 0.9011 - accuracy: 0.6849 - val_loss: 0.9162 - val_accuracy: 0.6859\n",
            "Epoch 5/10\n",
            "1563/1563 [==============================] - 76s 49ms/step - loss: 0.8307 - accuracy: 0.7066 - val_loss: 0.8953 - val_accuracy: 0.6929\n",
            "Epoch 6/10\n",
            "1563/1563 [==============================] - 73s 47ms/step - loss: 0.7761 - accuracy: 0.7283 - val_loss: 0.9240 - val_accuracy: 0.6866\n",
            "Epoch 7/10\n",
            "1563/1563 [==============================] - 72s 46ms/step - loss: 0.7201 - accuracy: 0.7474 - val_loss: 0.9419 - val_accuracy: 0.6811\n",
            "Epoch 8/10\n",
            "1563/1563 [==============================] - 75s 48ms/step - loss: 0.6759 - accuracy: 0.7629 - val_loss: 0.8783 - val_accuracy: 0.7033\n",
            "Epoch 9/10\n",
            "1563/1563 [==============================] - 73s 47ms/step - loss: 0.6403 - accuracy: 0.7763 - val_loss: 0.9252 - val_accuracy: 0.6881\n",
            "Epoch 10/10\n",
            "1563/1563 [==============================] - 72s 46ms/step - loss: 0.6043 - accuracy: 0.7877 - val_loss: 0.9396 - val_accuracy: 0.6973\n"
          ]
        }
      ]
    },
    {
      "cell_type": "markdown",
      "source": [
        "# ***Evaluating the model***"
      ],
      "metadata": {
        "id": "J88uKlJg418R"
      }
    },
    {
      "cell_type": "code",
      "source": [
        "test_loss, test_acc = model.evaluate(test_images,  test_labels, verbose=2)\n",
        "\n",
        "print(test_acc)"
      ],
      "metadata": {
        "colab": {
          "base_uri": "https://localhost:8080/"
        },
        "id": "erBUCxtJ5PvP",
        "outputId": "39c7d0f3-8e59-40a3-9608-8986c86df93d"
      },
      "execution_count": null,
      "outputs": [
        {
          "output_type": "stream",
          "name": "stdout",
          "text": [
            "313/313 - 4s - loss: 0.9396 - accuracy: 0.6973 - 4s/epoch - 13ms/step\n",
            "0.6973000168800354\n"
          ]
        }
      ]
    },
    {
      "cell_type": "markdown",
      "source": [
        "**Working with Small Datasets**"
      ],
      "metadata": {
        "id": "P_9Ip0Tl7m3s"
      }
    },
    {
      "cell_type": "code",
      "source": [
        "from keras.preprocessing.image import ImageDataGenerator\n",
        "from keras.preprocessing import image\n",
        "\n",
        "#create a data generator object that transforms image\n",
        "datagen = ImageDataGenerator(\n",
        "    rotation_range=40,\n",
        "    width_shift_range=0.2,\n",
        "    height_shift_range=0.2,\n",
        "    shear_range=0.2,\n",
        "    zoom_range=0.2,\n",
        "    horizontal_flip=True,\n",
        "    fill_mode='nearest'\n",
        ")\n",
        "#pick an image to transform\n",
        "test_img = train_images[100]\n",
        "img = image.img_to_array(test_img) # convert image to numpy array\n",
        "img = img.reshape((1,) + img.shape) # reshape image\n",
        "\n",
        "i = 0\n",
        "for batch in datagen.flow(img, save_prefix='test', save_format='jpeg'):\n",
        "  plt.figure(1)\n",
        "  plot = plt.imshow(image.img_to_array(batch[0]))\n",
        "  i += 1\n",
        "  if i > 20:\n",
        "      break\n",
        "plt.show()"
      ],
      "metadata": {
        "colab": {
          "base_uri": "https://localhost:8080/",
          "height": 430
        },
        "id": "sMIoUNwB7ujS",
        "outputId": "2df4ab30-2578-40e6-fd0b-98ed1542117c"
      },
      "execution_count": null,
      "outputs": [
        {
          "output_type": "display_data",
          "data": {
            "text/plain": [
              "<Figure size 640x480 with 1 Axes>"
            ],
            "image/png": "[encoded data removed]"
          },
          "metadata": {}
        }
      ]
    },
    {
      "cell_type": "code",
      "source": [],
      "metadata": {
        "id": "tD0OTiyN8LM3"
      },
      "execution_count": null,
      "outputs": []
    }
  ]
}